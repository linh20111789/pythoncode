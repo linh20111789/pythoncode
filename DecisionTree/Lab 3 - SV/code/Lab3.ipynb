{
 "cells": [
  {
   "cell_type": "markdown",
   "id": "4b569f1d",
   "metadata": {},
   "source": [
    "# Lab 3: Classification\n",
    "\n",
    "**Bài tập rèn luyện khả năng sử dụng thuật toán Decision tree vào bộ dữ liệu chữ số MNIST.**\n",
    "\n",
    "Cập nhật lần cuối: 28/02/2021 \n",
    "\n",
    "Họ tên: \n",
    "\n",
    "MSSV: "
   ]
  },
  {
   "cell_type": "markdown",
   "id": "43d445b1",
   "metadata": {},
   "source": [
    "## Quy định cách làm bài và nộp bài"
   ]
  },
  {
   "cell_type": "markdown",
   "id": "5925bcec",
   "metadata": {},
   "source": [
    "&#127827; *Trong bài tập này, các bạn chỉ được phép sử dụng các thư viện Standard Python Library, numpy, pandas, matplotlib. Các thư viện hỗ trơ (đặc biệt là thư viện Sklearn) là không được phép. Thư viện Sklearn chỉ được dùng trong phần huấn luyện mô hình cây quyết định (mình sẽ nói rõ ở phần đó)*\n",
    "\n",
    "&#127802; Sinh viên lưu ý mình sẽ dùng chương trình hỗ trợ chấm bài nên bạn cần phải tuân thủ chính xác qui định mà mình đặt ra, nếu không rõ thì hỏi, chứ không nên tự tiện làm theo ý của cá nhân.\n",
    "\n",
    "**Cách làm bài**\n",
    "\n",
    "Bạn sẽ làm trực tiếp trên file Python notebook này. Đầu tiên, bạn điền họ tên và MSSV vào phần đầu file ở bên trên. Trong file, bạn làm bài ở những chỗ có ghi là:\n",
    "\n",
    "```python\n",
    "# YOUR CODE HERE\n",
    "raise NotImplementedError()\n",
    "```\n",
    "hoặc đối với những phần code không bắt buộc thì là:\n",
    "```python\n",
    "# YOUR CODE HERE (OPTION)\n",
    "```\n",
    "\n",
    "Tất nhiên, khi làm thì bạn xóa dòng `raise NotImplementedError()` đi.\n",
    "Đối những phần yêu cầu code thì thường ở ngay phía dưới sẽ có một (hoặc một số) cell chứa các bộ test để giúp bạn biết đã code đúng hay chưa; nếu chạy cell này không có lỗi gì thì có nghĩa là qua được các bộ test. Trong một số trường hợp, các bộ test có thể sẽ không đầy đủ; nghĩa là, nếu không qua được test thì là code sai, nhưng nếu qua được test thì chưa chắc đã đúng hoàn toàn.\n",
    "\n",
    "Trong khi làm bài, bạn có thể cho in ra màn hình, tạo thêm các cell để test. Nhưng khi nộp bài thì bạn xóa các cell mà bạn tự tạo, xóa hoặc comment các câu lệnh in ra màn hình. Bạn lưu ý <font color=red>không được tự tiện xóa các cell hay sửa code của Thầy</font> (trừ những chỗ được phép sửa như đã nói ở trên).\n",
    "\n",
    "\n",
    "Trong khi làm bài, thường xuyên `Ctrl + S` để lưu lại bài làm của bạn, tránh mất mát thông tin.\n",
    "\n",
    "Bạn có thể thảo luận ý tưởng với bạn khác hoặc từ các nguồn khác, nhưng code và bài làm phải là của bạn, dựa trên sự hiểu thật sự của bạn. Nếu vi phạm thì sẽ bị 0 điểm cho toàn bộ môn học.\n",
    "\n",
    "**Cách nộp bài**\n",
    "\n",
    "Khi chấm bài, đầu tiên mình sẽ chọn `Kernel` - `Restart & Run All` để restart và chạy tất cả các cell trong notebook của bạn; do đó, trước khi nộp bài, bạn nên chạy thử `Kernel` - `Restart & Run All` để đảm bảo mọi chuyện diễn ra đúng như mong đợi.\n",
    "\n",
    "Sau đó, bạn tạo thư mục nộp bài theo cấu trúc sau:\n",
    "- Thư mục `MSSV` (vd, nếu bạn có MSSV là 123 thì bạn đặt tên thư mục là `123`)\n",
    "    - File `Lab3 - scratch.ipynb` \n",
    "    - File `Lab3 - mnist.ipynb` \n",
    "- Các bạn nén lại MSSV.zip (*.zip chứ không phải .rar hay gì khác)\n",
    "\n",
    "Cuối cùng, bạn nén thư mục `MSSV` này lại và nộp ở link trên moodle. <font color=red>Bạn lưu ý tuân thủ chính xác qui định nộp bài.</font>"
   ]
  },
  {
   "cell_type": "code",
   "execution_count": null,
   "id": "b1d442a3",
   "metadata": {},
   "outputs": [],
   "source": [
    "import os\n",
    "import numpy as np\n",
    "import pandas as pd\n",
    "import matplotlib.pyplot as plt\n",
    "%matplotlib inline\n",
    "\n",
    "# YOUR CODE HERE (OPTION) "
   ]
  },
  {
   "cell_type": "markdown",
   "id": "7934a352",
   "metadata": {},
   "source": [
    "# Đọc dữ liệu \n",
    "\n",
    "- Dữ liệu được đọc từ file mnist_train.csv và mnist_test.csv\n",
    "- Sinh viên đọc mô tả dữ liệu từ link: https://www.kaggle.com/oddrationale/mnist-in-csv\n",
    "- Dữ liệu lần được lưu vào các biến:\n",
    "\n",
    "train_X: dữ liệu trong tập huấn luyện\n",
    "\n",
    "train_y: nhãn của tập huấn luyện\n",
    "\n",
    "test_X: dữ liệu trong tập kiểm tra\n",
    "\n",
    "test_y: nhãn của tập kiểm tra\n",
    "\n",
    "**Lưu ý, các biến cần được chuyển về dạng numpy array.**"
   ]
  },
  {
   "cell_type": "code",
   "execution_count": null,
   "id": "04f66f8f",
   "metadata": {},
   "outputs": [],
   "source": [
    "train_X = None\n",
    "train_y = None\n",
    "test_X = None\n",
    "test_y = None\n",
    "\n",
    "# YOUR CODE HERE\n",
    "raise NotImplementedError()"
   ]
  },
  {
   "cell_type": "code",
   "execution_count": null,
   "id": "447defdd",
   "metadata": {},
   "outputs": [],
   "source": [
    "# Kiểm tra kích thước của dữ liệu đã chính xác chưa\n",
    "assert (train_X.shape == (60000, 784))\n",
    "assert (train_y.shape == (60000,))\n",
    "assert (test_X.shape == (10000, 784))\n",
    "assert (test_y.shape == (10000,))"
   ]
  },
  {
   "cell_type": "code",
   "execution_count": null,
   "id": "f3c2b270",
   "metadata": {},
   "outputs": [],
   "source": [
    "# TEST\n",
    "assert type(train_X) == np.ndarray\n",
    "assert type(train_y) == np.ndarray\n",
    "assert type(test_X) == np.ndarray\n",
    "assert type(test_y) == np.ndarray"
   ]
  },
  {
   "cell_type": "markdown",
   "id": "592f4fb4",
   "metadata": {},
   "source": [
    "# Khám phá dữ liệu"
   ]
  },
  {
   "cell_type": "markdown",
   "id": "72b05437",
   "metadata": {},
   "source": [
    "## Biểu diễn dữ liệu\n",
    "\n",
    "- Ta sẽ biểu diễn hình ảnh và nhãn tương ứng, từ tập dữ liệu huấn luyện (training). \n",
    "- Điều này cho ta một số lợi ích như: có cái nhìn tổng quan về dữ liệu và đảm bảo rằng dữ liệu được gắn nhãn chính xác.\n",
    "\n",
    "Do môn học của chúng ta không đặt nặng vấn đề xử lý ảnh, nên phần biểu diễn dữ liệu, mình sẽ giúp các bạn - với điều kiện phần Đọc dữ liệu bên trên các bạn phải đọc đúng :')"
   ]
  },
  {
   "cell_type": "code",
   "execution_count": null,
   "id": "ae685ef2",
   "metadata": {
    "scrolled": false
   },
   "outputs": [],
   "source": [
    "plt.figure(figsize=(7, 7))\n",
    "\n",
    "for i in range(16):\n",
    "    ax = plt.subplot(4, 4, i + 1)\n",
    "        \n",
    "    image = train_X[i].reshape((28, 28))\n",
    "\n",
    "    plt.imshow(image.astype(\"uint8\"), cmap='gray')\n",
    "\n",
    "    plt.title(train_y[i])\n",
    "    plt.axis(\"off\")"
   ]
  },
  {
   "cell_type": "markdown",
   "id": "8c254993",
   "metadata": {},
   "source": [
    "## Số lượng hình ảnh mỗi lớp trong dữ liệu có cân bằng (balance) hay không?\n",
    "\n",
    "- Số lượng các lớp trong dữ liệu là gì? Ví dụ: có bao nhiêu hình ảnh có nhãn là 0, có bao nhiêu có nhãn là 1. \n",
    "- Tại sao ta cần khám phá câu hỏi này? Trong quá trình huấn luyện các mô hình học máy, để cho mô hình có thể học tốt nhất, thì số lượng hình ảnh của mỗi lớp nên bằng với nhau. \n",
    "\n",
    "---------------------------\n",
    "- Ta sẽ đếm số lượng hình ảnh của mỗi lớp **trong tập dữ liệu huấn luyện** và lưu vào 1 dictionary có tên là: sample_count_per_class. Với định dạng mẫu: <br />\n",
    "{ <br />\n",
    "'0': số lượng hình ảnh có nhãn là 0,  <br />\n",
    "'1': số lượng hình ảnh có nhãn là 1,  <br />\n",
    "...  <br />\n",
    "'9': số lượng hình ảnh có nhãn là 9  <br />\n",
    "}"
   ]
  },
  {
   "cell_type": "code",
   "execution_count": null,
   "id": "71c2c2e7",
   "metadata": {
    "scrolled": true
   },
   "outputs": [],
   "source": [
    "sample_count_per_class = {'0':0, '1':0, '2':0, '3':0, '4':0, '5':0, '6':0, '7':0, '8':0, '9':0}\n",
    "\n",
    "# YOUR CODE HERE\n",
    "raise NotImplementedError()"
   ]
  },
  {
   "cell_type": "code",
   "execution_count": null,
   "id": "10376c73",
   "metadata": {},
   "outputs": [],
   "source": [
    "# TEST\n",
    "assert sample_count_per_class == {'0': 5923, '1': 6742, '2': 5958, '3': 6131, '4': 5842, '5': 5421, \\\n",
    "                                  '6': 5918, '7': 6265, '8': 5851, '9': 5949}"
   ]
  },
  {
   "cell_type": "markdown",
   "id": "136a42ae",
   "metadata": {},
   "source": [
    "- Có vẻ dữ liệu của mỗi lớp cân bằng với nhau (xấp xỉ 5000 ~ 6000) <br />\n",
    "=> Thích hợp cho việc huấn luyện\n",
    "\n",
    "- Để trực quan hơn nữa, chúng ta sẽ biểu diễn bên dưới thông qua hình ảnh. (mình cũng sẽ giúp các bạn phần này, các bạn chỉ cần chạy đoạn code bên dưới là được)"
   ]
  },
  {
   "cell_type": "code",
   "execution_count": null,
   "id": "6d20a2dd",
   "metadata": {},
   "outputs": [],
   "source": [
    "plt.bar(sample_count_per_class.keys(), sample_count_per_class.values())"
   ]
  },
  {
   "cell_type": "markdown",
   "id": "be5a985a",
   "metadata": {},
   "source": [
    "# Chuẩn bị dữ liệu"
   ]
  },
  {
   "attachments": {
    "image-4.png": {
     "image/png": "[encoded data removed]"
    }
   },
   "cell_type": "markdown",
   "id": "adabad0f",
   "metadata": {},
   "source": [
    "## Tiền xử lý dữ liệu - chuẩn hóa dữ liệu về khoảng [0, 1]\n",
    "- Đối với dữ liệu dạng ảnh nói riêng và nhiều dữ liệu khác nói chung, một cách phổ biến để xử lý dữ liệu và chuyển giá trị về khoảng [0, 1]. Phương pháp này còn được gọi là normalization. Với phương pháp tiền xử lý này, ta có thể cải thiện độ chính xác lên rất nhiều.\n",
    "\n",
    "- Công thức là:\n",
    "![image-4.png](attachment:image-4.png)\n",
    "\n",
    "- Nhiệm vụ của sinh viên, hoàn thành hàm *normlize_image*. Lưu ý: kết quả trả về của hàm normalize_image là 1 numpy array có kiểu dữ liệu là np.float32"
   ]
  },
  {
   "cell_type": "code",
   "execution_count": null,
   "id": "7d19bd8e",
   "metadata": {},
   "outputs": [],
   "source": [
    "def normalize_image(image):\n",
    "    \"\"\"\n",
    "    The function nomalize a single image to range [0.0, 1.0]\n",
    "    \n",
    "    * parameter:\n",
    "    - image: a numpy array, which is our input image.\n",
    "    \n",
    "    * return:\n",
    "    - norm_image: the result image after normalize, a numpy array - with dtype is np.float32\n",
    "    \"\"\"\n",
    "    \n",
    "    # YOUR CODE HERE\n",
    "    raise NotImplementedError()\n",
    "    \n",
    "    return norm_image"
   ]
  },
  {
   "cell_type": "code",
   "execution_count": null,
   "id": "e87816b0",
   "metadata": {},
   "outputs": [],
   "source": [
    "# TEST\n",
    "assert (normalize_image(np.array([0, 127.5, 255])) == np.array([0.0 , 0.5, 1.0], dtype=np.float32)).all() == True"
   ]
  },
  {
   "cell_type": "markdown",
   "id": "3b541f83",
   "metadata": {},
   "source": [
    "- Sau khi đã viết thành công hàm normalize_image. Sinh viên áp dụng hàm normalize_image, để viết hàm normalize_data. \n",
    "- Hàm normalize_data, có nhiệm vụ thực hiện normalize toàn bộ dữ liệu."
   ]
  },
  {
   "cell_type": "code",
   "execution_count": null,
   "id": "8b1206ba",
   "metadata": {},
   "outputs": [],
   "source": [
    "def normalize_data(images):\n",
    "    \"\"\"\n",
    "    Function perform nomalization in the whole dataset\n",
    "    \n",
    "    * Parameter: \n",
    "    - images: numpy array, with dimension (n, image_size)\n",
    "    \n",
    "    * Return:\n",
    "    - norm_images: numpy array, the whole images, which is normalized.\n",
    "    \"\"\"\n",
    "    \n",
    "    norm_images = None\n",
    "    \n",
    "    # YOUR CODE HERE\n",
    "    raise NotImplementedError()\n",
    "    \n",
    "    return norm_images"
   ]
  },
  {
   "cell_type": "markdown",
   "id": "8d80fad7",
   "metadata": {},
   "source": [
    "- Sau đó, ta dùng hàm *normalize_data* để thực hiện normalize toàn bộ dữ liệu trong tập huấn luyện (biến train_X). Kết quả được lưu vào biến train_X_norm. (Mình đã thực hiện cho các bạn bên dưới) - với điều kiện hàm normalize_data của các bạn phải chính xác :')."
   ]
  },
  {
   "cell_type": "code",
   "execution_count": null,
   "id": "057c2d62",
   "metadata": {},
   "outputs": [],
   "source": [
    "# Thực hiện normalize trên toàn bộ dữ liệu huấn luyện\n",
    "train_X_norm = normalize_data(train_X)"
   ]
  },
  {
   "cell_type": "code",
   "execution_count": null,
   "id": "ec1e226a",
   "metadata": {},
   "outputs": [],
   "source": [
    "# TEST\n",
    "assert train_X_norm.shape == (60000, 784)\n",
    "assert train_X_norm.dtype == np.float32\n",
    "assert train_X_norm.max() == 1.0\n",
    "assert train_X_norm.min() == 0.0"
   ]
  },
  {
   "cell_type": "markdown",
   "id": "2e182a16",
   "metadata": {},
   "source": [
    "## Tiền xử lý dữ liệu - chuyển nhãn về dạng one-hot vector\n",
    "\n",
    "- Chuyển về dạng one-hot vector là gì?\n",
    "Ví dụ: dữ liệu của ta gồm các nhãn [0, 1, 2]. Thay vì để các số 0, 1, 2 cho mô hình dự đoán. Người ta có xu hướng chuyển về dạng vector như sau: [[1, 0, 0], [0, 1, 0], [0, 0, 1]]\n",
    "\n",
    "- Ở đây, mình sẽ không giải thích cụ thể tại sao lại chuyển về dạng one-hot vector. Nói một cách đơn giản, chuyển về dạng one-hot vector sẽ giúp cho mô hình học tốt hơn và đạt được độ chính xác cao hơn.\n",
    "\n",
    "- Nhiệm vụ của sinh viên là hoàn thành hàm *one_hot_encoding*"
   ]
  },
  {
   "cell_type": "code",
   "execution_count": null,
   "id": "643cdfbc",
   "metadata": {},
   "outputs": [],
   "source": [
    "def one_hot_encoding(label, num_classes=10):\n",
    "    \"\"\"\n",
    "    Function convert label into one-hot vector\n",
    "    \n",
    "    * Parameter:\n",
    "    - label: a number, indicate a label\n",
    "    - num_classes: a number, indicate a number of class. In this project, we have 10 classes from 0 to 9.\n",
    "    \n",
    "    * Return:\n",
    "    - one_hot_label: numpy array, the label after convert to one-hot vector\n",
    "    \"\"\"\n",
    "    \n",
    "    one_hot_label = None\n",
    "    \n",
    "    # YOUR CODE HERE\n",
    "    raise NotImplementedError()\n",
    "    \n",
    "    return one_hot_label"
   ]
  },
  {
   "cell_type": "code",
   "execution_count": null,
   "id": "5b0cf8de",
   "metadata": {},
   "outputs": [],
   "source": [
    "# TEST\n",
    "assert (one_hot_encoding(0) == np.array([1., 0., 0., 0., 0., 0., 0., 0., 0., 0.])).all() == True\n",
    "assert (one_hot_encoding(5) == np.array([0., 0., 0., 0., 0., 1., 0., 0., 0., 0.])).all() == True"
   ]
  },
  {
   "cell_type": "markdown",
   "id": "cb0a8ff0",
   "metadata": {},
   "source": [
    "- Sau khi đã viết thành công hàm one_hot_encoding. Sinh viên áp dụng hàm one_hot_encoding để viết hàm one_hot_encoding_labels.\n",
    "\n",
    "- Hàm *one_hot_encoding_labels* có nhiệm vụ chuyển toàn bộ nhãn về dạng one hot vector."
   ]
  },
  {
   "cell_type": "code",
   "execution_count": null,
   "id": "6d5e3348",
   "metadata": {},
   "outputs": [],
   "source": [
    "def one_hot_encoding_labels(labels, num_classes=10):\n",
    "    \"\"\"\n",
    "    Function perform one hot encoding in the whole label\n",
    "    \n",
    "    * Parameter:\n",
    "    - labels: numpy array, labels before one-hot, with shape (n,)\n",
    "    \n",
    "    * Return:\n",
    "    - one_hot_labels: numpy array, labels after perform one-hot encoding, with shape (n, num_classes)\n",
    "    \"\"\"\n",
    "    \n",
    "    one_hot_labels = None\n",
    "    \n",
    "    # YOUR CODE HERE\n",
    "    raise NotImplementedError()\n",
    "    \n",
    "    return one_hot_labels"
   ]
  },
  {
   "cell_type": "markdown",
   "id": "16b19760",
   "metadata": {},
   "source": [
    "- Sau khi đã viết xong hàm *one_hot_encoding labels*, ta thực hiện one-hot encoding trên toàn bộ nhãn của tập huấn luyện. Kết quả sẽ được lưu vào biến **train_y_one_hot**.\n",
    "- Đoạn code bên dưới, mình đã thực hiện giúp các bạn, với điều kiện hàm one_hot_encoding_labels phải được thực hiện đúng. :')"
   ]
  },
  {
   "cell_type": "code",
   "execution_count": null,
   "id": "385c0b8c",
   "metadata": {},
   "outputs": [],
   "source": [
    "train_y_one_hot = one_hot_encoding_labels(train_y)"
   ]
  },
  {
   "cell_type": "code",
   "execution_count": null,
   "id": "85797ad1",
   "metadata": {},
   "outputs": [],
   "source": [
    "assert train_y_one_hot.shape == (60000, 10)\n",
    "assert train_y_one_hot.max() == 1.0\n",
    "assert train_y_one_hot[0].sum() == 1.0"
   ]
  },
  {
   "cell_type": "markdown",
   "id": "1664a700",
   "metadata": {},
   "source": [
    "# Cài đặt và huấn luyện thuật toán Decision tree \n",
    "\n",
    "- Trong phần này, sinh viên cài đặt thuật toán Decision Tree và sử dụng để huấn luyện với bộ dữ liệu mnist vừa được xử lý bên trên.\n",
    "- Sinh viên được phép sử dụng hàm *DecisionTreeClassifier* của thư viện Sklearn bằng khai báo \n",
    "\n",
    "```python\n",
    "from sklearn.tree import DecisionTreeClassifier\n",
    "```\n",
    "\n",
    "- Các thuộc tính liên quan, sinh viên cần khai báo gồm:\n",
    "criterion: entropy <br />\n",
    "random_state: 100 <br />\n",
    "max_depth: 10 <br />\n",
    "min_samples_leaf: 5 <br />\n",
    "\n",
    "- Sinh viên có thể tham khảo link: https://scikit-learn.org/stable/modules/generated/sklearn.tree.DecisionTreeClassifier.html"
   ]
  },
  {
   "cell_type": "code",
   "execution_count": null,
   "id": "19342b36",
   "metadata": {},
   "outputs": [],
   "source": [
    "from sklearn.tree import DecisionTreeClassifier\n",
    "\n",
    "# YOUR CODE HERE\n",
    "raise NotImplementedError()"
   ]
  },
  {
   "cell_type": "markdown",
   "id": "00c2f2b8",
   "metadata": {},
   "source": [
    "- Đến đây chúng ta đã sẵn sàng để huấn luyện mô hình Cây quyết định (Decision tree).\n",
    "- Mô hình cây quyết định được lưu vào biến **tree**"
   ]
  },
  {
   "cell_type": "code",
   "execution_count": null,
   "id": "f6e46833",
   "metadata": {},
   "outputs": [],
   "source": [
    "tree = None\n",
    "\n",
    "# YOUR CODE HERE\n",
    "raise NotImplementedError()"
   ]
  },
  {
   "cell_type": "markdown",
   "id": "f0254db6",
   "metadata": {},
   "source": [
    "# Kiểm tra độ chính xác\n",
    "\n",
    "- Sau khi đã huấn luyện thành công mô hình Cây quyết định, chúng ta sẽ kiểm tra độ chính xác của mô hình trên tập dữ liệu kiểm tra (testing dataset)."
   ]
  },
  {
   "cell_type": "markdown",
   "id": "c45fc874",
   "metadata": {},
   "source": [
    "## Tiền xử lý và dự đoán trên tập dữ liệu kiểm tra. \n",
    "\n",
    "- Lưu ý, để thực hiện dự đoán trên tập dữ liệu kiểm tra, chúng ta cũng phải thực hiện bước tiền xử lý dữ liệu: normalization đối với test_X. Kết quả lưu vào biến **test_X_norm**. Gợi ý: các bạn chỉ cần gọi lại hàm được viết bên trên là được."
   ]
  },
  {
   "cell_type": "code",
   "execution_count": null,
   "id": "5c846764",
   "metadata": {},
   "outputs": [],
   "source": [
    "test_X_norm = None\n",
    "\n",
    "# YOUR CODE HERE\n",
    "raise NotImplementedError()"
   ]
  },
  {
   "cell_type": "code",
   "execution_count": null,
   "id": "80e9f015",
   "metadata": {},
   "outputs": [],
   "source": [
    "# TEST\n",
    "assert test_X_norm.shape == (10000, 784)\n",
    "assert test_X_norm.max() == 1.0\n",
    "assert test_X_norm.min() == 0.0"
   ]
  },
  {
   "cell_type": "markdown",
   "id": "3ababa25",
   "metadata": {},
   "source": [
    "- Sau khi đã tiền xử lý dữ liệu trong tập kiểm tra. Ta sử dụng mô hình cây quyết định đã được huấn luyện bên trên. Để dự đoán nhãn của tập dữ liệu kiểm thử. Kết quả được lưu vào biến **test_y_pred**.\n",
    "- Lưu ý: sau khi dự đoán, các bạn cần xử lý sao cho, kích thước (shape) của **test_y_pred** là (n,) - với n là số điểm dữ liệu. Gợi ý: các bạn có thể tham khảo hàm argmax() của numpy.\n",
    "- Mình nói thêm, lý do cần chuyển **test_y_pred** về mảng một chiều kích thước (n,) là cùng kích thước với nhãn thật của tập kiểm tra (biến **test_y**), và viết hàm tính accuracy bên dưới sẽ thuận tiện hơn."
   ]
  },
  {
   "cell_type": "code",
   "execution_count": null,
   "id": "fa330faa",
   "metadata": {},
   "outputs": [],
   "source": [
    "test_y_pred = None\n",
    "\n",
    "# YOUR CODE HERE\n",
    "raise NotImplementedError()"
   ]
  },
  {
   "cell_type": "code",
   "execution_count": null,
   "id": "46cdf3ad",
   "metadata": {},
   "outputs": [],
   "source": [
    "# TEST\n",
    "assert test_y_pred.shape == (10000,)"
   ]
  },
  {
   "cell_type": "markdown",
   "id": "70dd7c7f",
   "metadata": {},
   "source": [
    "## Kiểm tra với độ đo accuracy\n",
    "\n",
    "- Đây là đô đo đơn giản và phổ biến nhất. Cách này tính tỷ lệ giữa số điểm được dự đoán đúng và tổng số điểm trong tập dữ liệu kiểm thử. Ví dụ: ta có 10 điểm dữ liệu và có 6 điểm dữ liệu được dự đoán chính xác, vậy độ đo accuracy = 60%.\n",
    "\n",
    "- Nhiệm vụ của sinh viên trong phần này:\n",
    "1. Viết hàm *cal_accuracy*, đã được định nghĩa bên dưới.\n",
    "2. Tính toán accuracy với **test_y_pred** và **test_y** bằng hàm *cal_accuracy* vừa viết."
   ]
  },
  {
   "cell_type": "code",
   "execution_count": null,
   "id": "03b5b269",
   "metadata": {},
   "outputs": [],
   "source": [
    "def cal_accuracy(y_true, y_pred):\n",
    "    \"\"\"\n",
    "    Function calculate accuracy between y_true and y_pred\n",
    "    \n",
    "    * Parameter:\n",
    "    - y_true: numpy array, with shape (n,). The truth labels.\n",
    "    - y_pred: numpy array, with shape (n,). The predicted labels.\n",
    "    \n",
    "    * Return:\n",
    "    - accuracy: a float number, indicate the accuracy between y_true and y_pred \n",
    "    \"\"\"\n",
    "    \n",
    "    accuracy = None\n",
    "    \n",
    "    # YOUR CODE HERE\n",
    "    raise NotImplementedError()\n",
    "    \n",
    "    return accuracy"
   ]
  },
  {
   "cell_type": "code",
   "execution_count": null,
   "id": "4ceb7f0e",
   "metadata": {},
   "outputs": [],
   "source": [
    "# TEST\n",
    "y_true = np.array([0, 0, 0, 0, 1, 1, 1, 1, 2, 2])\n",
    "y_pred = np.array([0, 1, 0, 2, 1, 1, 1, 0, 2, 1])\n",
    "assert cal_accuracy(y_true, y_pred) == 0.6"
   ]
  },
  {
   "cell_type": "markdown",
   "id": "9c1df0a9",
   "metadata": {},
   "source": [
    "- Ta thực hiện tính toán accuracy giữa **test_y_pred** và **test_y** bằng hàm *cal_accuracy* vừa viết. Kết quả được lưu vào biết **acc**\n",
    "\n",
    "**Có thể tùy cách cài đặt, sẽ khác nhau đôi chút. Tuy nhiên, trên máy của mình kết quả đạt khoảng 80% ~ 90% (chính xác là 84,75%). Là một kết quả chấp nhận được. Nếu các bạn đạt thấp hơn khoảng đó, có vẻ cách cài đặt của các bạn có vấn đề. Cần xem lại.**"
   ]
  },
  {
   "cell_type": "code",
   "execution_count": null,
   "id": "714c1c17",
   "metadata": {},
   "outputs": [],
   "source": [
    "acc = None\n",
    "\n",
    "# YOUR CODE HERE\n",
    "raise NotImplementedError()\n",
    "\n",
    "print(\"Accuracy in testing dataset: {}\".format(acc))"
   ]
  },
  {
   "cell_type": "markdown",
   "id": "4a78c410",
   "metadata": {},
   "source": [
    "## Kiểm tra với confustion matrix\n",
    "\n",
    "- Cách tính sử dụng accuracy như ở trên chỉ cho chúng ta biết được bao nhiêu phần trăm lượng dữ liệu được phân loại đúng. Tuy nhiên, không chỉ ra được cụ thể mỗi loại được phân loại như thế nào, lớp nào được phân loại đúng nhiều nhất, và dữ liệu thuộc lớp nào thường bị phân loại nhầm vào lớp khác. Để có thể đánh giá được các giá trị này, chúng ta sử dụng một ma trận được gọi là confusion matrix. \n",
    "\n",
    "\n",
    "- Các bạn có thể đọc trong các link sau, để hiểu rõ hơn về confusion matrix.  <br />\n",
    "https://scikit-learn.org/stable/modules/generated/sklearn.metrics.confusion_matrix.html  <br />\n",
    "https://scikit-learn.org/stable/modules/model_evaluation.html#confusion-matrix  <br />\n",
    "\n",
    "\n",
    "- Lưu ý, các bạn chỉ đọc 2 link trên, để hiểu thêm về confusion matrix. Không được sử dụng code trong đó, vì theo quy định các bạn không được dùng thư viện sklearn.\n",
    "\n",
    "<br />\n",
    "\n",
    "-------------\n",
    "- Nhiệm vụ của sinh viên: cài đặt hàm *cal_confusion_matrix* bên dưới. \n",
    "-Lưu ý, tùy vào phiên bản thư viện numpy mà có thể việc in confusion matrix sẽ không được đẹp, mình gợi ý các bạn nên thiết lập dtype của mảng confusion_matrix là np.int32. "
   ]
  },
  {
   "cell_type": "code",
   "execution_count": null,
   "id": "30d0487a",
   "metadata": {},
   "outputs": [],
   "source": [
    "def cal_confusion_matrix(y_true, y_pred, num_classes=10):\n",
    "    \"\"\"\n",
    "    Function calculate confusion matrix of y_true and y_pred.\n",
    "    \n",
    "    * Parameters:\n",
    "    - y_true: numpy array, with shape (n,). Ground truth labels\n",
    "    - y_pred: numpy array, with shape (n,). Predicted labels\n",
    "    \n",
    "    * Return: \n",
    "    - confusion matrix: numpy array, confusion matrix with shape (num_classes, num_classes)\n",
    "    \"\"\"\n",
    "    confusion_matrix = None\n",
    "    \n",
    "    # YOUR CODE HERE\n",
    "    raise NotImplementedError()\n",
    "    \n",
    "    return confusion_matrix "
   ]
  },
  {
   "cell_type": "markdown",
   "id": "b8b8c49f",
   "metadata": {},
   "source": [
    "- Sau khi đã viết xong hàm cal_confusion_matrix, ta tính toán và in ra màn hình"
   ]
  },
  {
   "cell_type": "code",
   "execution_count": null,
   "id": "2136506b",
   "metadata": {},
   "outputs": [],
   "source": [
    "confusion_matrix = cal_confusion_matrix(test_y, test_y_pred)\n",
    "print(confusion_matrix)"
   ]
  },
  {
   "cell_type": "markdown",
   "id": "6fea59f8",
   "metadata": {},
   "source": [
    "**KHÔNG TÍNH ĐIỂM**\n",
    "- Để biểu diễn một cách trực quan hơn, ta sẽ biểu diễn confusion matrix bằng hình ảnh. Tuy nhiên, phần này nằm ngoài nội dung môn học, cho nên mình sẽ hỗ trợ các bạn. Các bạn chỉ cần chạy đoạn code bên dưới."
   ]
  },
  {
   "cell_type": "code",
   "execution_count": null,
   "id": "a6eadadc",
   "metadata": {},
   "outputs": [],
   "source": [
    "def plot_confusion_matrix(cm,\n",
    "                          target_names,\n",
    "                          title='Confusion matrix',\n",
    "                          cmap=None,\n",
    "                          normalize=True):\n",
    "    \"\"\"\n",
    "    given a sklearn confusion matrix (cm), make a nice plot\n",
    "\n",
    "    Arguments\n",
    "    ---------\n",
    "    cm:           confusion matrix from sklearn.metrics.confusion_matrix\n",
    "\n",
    "    target_names: given classification classes such as [0, 1, 2]\n",
    "                  the class names, for example: ['high', 'medium', 'low']\n",
    "\n",
    "    title:        the text to display at the top of the matrix\n",
    "\n",
    "    cmap:         the gradient of the values displayed from matplotlib.pyplot.cm\n",
    "                  see http://matplotlib.org/examples/color/colormaps_reference.html\n",
    "                  plt.get_cmap('jet') or plt.cm.Blues\n",
    "\n",
    "    normalize:    If False, plot the raw numbers\n",
    "                  If True, plot the proportions\n",
    "\n",
    "    Usage\n",
    "    -----\n",
    "    plot_confusion_matrix(cm           = cm,                  # confusion matrix created by\n",
    "                                                              # sklearn.metrics.confusion_matrix\n",
    "                          normalize    = True,                # show proportions\n",
    "                          target_names = y_labels_vals,       # list of names of the classes\n",
    "                          title        = best_estimator_name) # title of graph\n",
    "\n",
    "    Citiation\n",
    "    ---------\n",
    "    http://scikit-learn.org/stable/auto_examples/model_selection/plot_confusion_matrix.html\n",
    "    https://www.kaggle.com/grfiv4/plot-a-confusion-matrix\n",
    "\n",
    "    \"\"\"\n",
    "    import itertools\n",
    "\n",
    "    accuracy = np.trace(cm) / float(np.sum(cm))\n",
    "    misclass = 1 - accuracy\n",
    "\n",
    "    if cmap is None:\n",
    "        cmap = plt.get_cmap('Blues')\n",
    "\n",
    "    plt.figure(figsize=(8, 6))\n",
    "    plt.imshow(cm, interpolation='nearest', cmap=cmap)\n",
    "    plt.title(title)\n",
    "    plt.colorbar()\n",
    "\n",
    "    if target_names is not None:\n",
    "        tick_marks = np.arange(len(target_names))\n",
    "        plt.xticks(tick_marks, target_names, rotation=45)\n",
    "        plt.yticks(tick_marks, target_names)\n",
    "\n",
    "    if normalize:\n",
    "        cm = cm.astype('float') / cm.sum(axis=1)[:, np.newaxis]\n",
    "\n",
    "\n",
    "    thresh = cm.max() / 1.5 if normalize else cm.max() / 2\n",
    "    for i, j in itertools.product(range(cm.shape[0]), range(cm.shape[1])):\n",
    "        if normalize:\n",
    "            plt.text(j, i, \"{:0.4f}\".format(cm[i, j]),\n",
    "                     horizontalalignment=\"center\",\n",
    "                     color=\"white\" if cm[i, j] > thresh else \"black\")\n",
    "        else:\n",
    "            plt.text(j, i, \"{:,}\".format(cm[i, j]),\n",
    "                     horizontalalignment=\"center\",\n",
    "                     color=\"white\" if cm[i, j] > thresh else \"black\")\n",
    "\n",
    "\n",
    "    plt.tight_layout()\n",
    "    plt.ylabel('True label')\n",
    "    plt.xlabel('Predicted label\\naccuracy={:0.4f}; misclass={:0.4f}'.format(accuracy, misclass))\n",
    "    plt.show()\n",
    "\n",
    "plot_confusion_matrix(confusion_matrix, \n",
    "                      normalize    = False,\n",
    "                      target_names = ['0', '1', '2', '3', '4', '5', '6', '7', '8', '9'],\n",
    "                      title        = \"Confusion Matrix\")"
   ]
  },
  {
   "cell_type": "markdown",
   "id": "c5f1a669",
   "metadata": {},
   "source": [
    "- Có vẻ mô hình phân loại tốt nhỉ !!!"
   ]
  },
  {
   "cell_type": "code",
   "execution_count": null,
   "id": "a3d1d594",
   "metadata": {},
   "outputs": [],
   "source": []
  }
 ],
 "metadata": {
  "kernelspec": {
   "display_name": "Python 3",
   "language": "python",
   "name": "python3"
  },
  "language_info": {
   "codemirror_mode": {
    "name": "ipython",
    "version": 3
   },
   "file_extension": ".py",
   "mimetype": "text/x-python",
   "name": "python",
   "nbconvert_exporter": "python",
   "pygments_lexer": "ipython3",
   "version": "3.7.9"
  }
 },
 "nbformat": 4,
 "nbformat_minor": 5
}
