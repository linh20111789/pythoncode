{
 "cells": [
  {
   "cell_type": "markdown",
   "id": "4b569f1d",
   "metadata": {},
   "source": [
    "# Lab 3: Classification\n",
    "\n",
    "**Bài tập rèn luyện khả năng cài đặt thuật toán Decision tree.**\n",
    "\n",
    "Cập nhật lần cuối: 28/02/2021 \n",
    "\n",
    "Họ tên: \n",
    "\n",
    "MSSV: "
   ]
  },
  {
   "cell_type": "markdown",
   "id": "43d445b1",
   "metadata": {},
   "source": [
    "## Quy định cách làm bài và nộp bài"
   ]
  },
  {
   "cell_type": "markdown",
   "id": "5925bcec",
   "metadata": {},
   "source": [
    "&#127827; *Trong bài tập này, các bạn chỉ được phép sử dụng các thư viện Standard Python Library, numpy, pandas, matplotlib. Các thư viện hỗ trơ (đặc biệt là thư viện Sklearn) là không được phép. Thư viện Sklearn chỉ được dùng trong phần huấn luyện mô hình cây quyết định (mình sẽ nói rõ ở phần đó)*\n",
    "\n",
    "&#127802; Sinh viên lưu ý mình sẽ dùng chương trình hỗ trợ chấm bài nên bạn cần phải tuân thủ chính xác qui định mà mình đặt ra, nếu không rõ thì hỏi, chứ không nên tự tiện làm theo ý của cá nhân.\n",
    "\n",
    "**Cách làm bài**\n",
    "\n",
    "Bạn sẽ làm trực tiếp trên file Python notebook này. Đầu tiên, bạn điền họ tên và MSSV vào phần đầu file ở bên trên. Trong file, bạn làm bài ở những chỗ có ghi là:\n",
    "\n",
    "```python\n",
    "# YOUR CODE HERE\n",
    "raise NotImplementedError()\n",
    "```\n",
    "hoặc đối với những phần code không bắt buộc thì là:\n",
    "```python\n",
    "# YOUR CODE HERE (OPTION)\n",
    "```\n",
    "\n",
    "Tất nhiên, khi làm thì bạn xóa dòng `raise NotImplementedError()` đi.\n",
    "Đối những phần yêu cầu code thì thường ở ngay phía dưới sẽ có một (hoặc một số) cell chứa các bộ test để giúp bạn biết đã code đúng hay chưa; nếu chạy cell này không có lỗi gì thì có nghĩa là qua được các bộ test. Trong một số trường hợp, các bộ test có thể sẽ không đầy đủ; nghĩa là, nếu không qua được test thì là code sai, nhưng nếu qua được test thì chưa chắc đã đúng hoàn toàn.\n",
    "\n",
    "Trong khi làm bài, bạn có thể cho in ra màn hình, tạo thêm các cell để test. Nhưng khi nộp bài thì bạn xóa các cell mà bạn tự tạo, xóa hoặc comment các câu lệnh in ra màn hình. Bạn lưu ý <font color=red>không được tự tiện xóa các cell hay sửa code của Thầy</font> (trừ những chỗ được phép sửa như đã nói ở trên).\n",
    "\n",
    "\n",
    "Trong khi làm bài, thường xuyên `Ctrl + S` để lưu lại bài làm của bạn, tránh mất mát thông tin.\n",
    "\n",
    "Bạn có thể thảo luận ý tưởng với bạn khác hoặc từ các nguồn khác, nhưng code và bài làm phải là của bạn, dựa trên sự hiểu thật sự của bạn. Nếu vi phạm thì sẽ bị 0 điểm cho toàn bộ môn học.\n",
    "\n",
    "**Cách nộp bài**\n",
    "\n",
    "Khi chấm bài, đầu tiên mình sẽ chọn `Kernel` - `Restart & Run All` để restart và chạy tất cả các cell trong notebook của bạn; do đó, trước khi nộp bài, bạn nên chạy thử `Kernel` - `Restart & Run All` để đảm bảo mọi chuyện diễn ra đúng như mong đợi.\n",
    "\n",
    "Sau đó, bạn tạo thư mục nộp bài theo cấu trúc sau:\n",
    "- Thư mục `MSSV` (vd, nếu bạn có MSSV là 123 thì bạn đặt tên thư mục là `123`)\n",
    "    - File `Lab3 - cratch.ipynb` \n",
    "    - File `Lab3 - mnist.ipynb` \n",
    "- Các bạn nén lại MSSV.zip (*.zip chứ không phải .rar hay gì khác)\n",
    "\n",
    "Cuối cùng, bạn nén thư mục `MSSV` này lại và nộp ở link trên moodle. <font color=red>Bạn lưu ý tuân thủ chính xác qui định nộp bài.</font>"
   ]
  },
  {
   "cell_type": "code",
   "execution_count": null,
   "id": "b1d442a3",
   "metadata": {},
   "outputs": [],
   "source": [
    "import os\n",
    "import numpy as np\n",
    "import pandas as pd\n",
    "import matplotlib.pyplot as plt\n",
    "%matplotlib inline\n",
    "\n",
    "# YOUR CODE HERE (OPTION) \n",
    "# Mình nhắc lại, không được dùng các thư viện hỗ trợ cài đặt thuật toán, ví dụ: Sklearn, Keras,..."
   ]
  },
  {
   "cell_type": "markdown",
   "id": "76119b0c",
   "metadata": {},
   "source": [
    "# Giới thiệu về dữ liệu\n",
    "\n",
    "- Trong bài tập này, mình sẽ tạo một bộ dữ liệu nhỏ để minh họa quá trình cài đặt thuật toán cây quyết định. \n",
    "- Bộ dữ liệu gồm các thuộc tính: màu sắc, trọng lượng, loại trái cây. Nhiệm vụ của chúng ta là dựa vào màu sắc và trọng lượng, dự đoán loại trái cây.\n",
    "- Dữ liệu được cho trong biến **training_data**. Dữ liệu gồm 5 dòng và 3 cột, trong đó: \n",
    "    + 5 dòng tương ứng với 5 điểm dữ liệu.\n",
    "    + 3 cột, 2 cột đầu tiên tương ứng là màu sắc (color) và trọng lượng (weight), cột cuối cùng tương ứng là loại trái cây (label)."
   ]
  },
  {
   "cell_type": "code",
   "execution_count": null,
   "id": "be9d28e2",
   "metadata": {},
   "outputs": [],
   "source": [
    "training_data = [\n",
    "    ['Green', 3, 'Apple'],\n",
    "    ['Yellow', 3, 'Apple'],\n",
    "    ['Red', 1, 'Grape'],\n",
    "    ['Red', 1, 'Grape'],\n",
    "    ['Yellow', 3, 'Lemon'],\n",
    "]"
   ]
  },
  {
   "cell_type": "markdown",
   "id": "1664a700",
   "metadata": {},
   "source": [
    "# Cài đặt thuật toán Decision tree"
   ]
  },
  {
   "cell_type": "markdown",
   "id": "2123a7fd",
   "metadata": {},
   "source": [
    "## Gini Index\n",
    "\n",
    "*Để hiểu rõ hơn về về phần Gini Index, bạn có thể đọc phần Gini Index, phần 8.2 sách Data Mining Concepts and Techniques.*\n",
    "\n",
    "- Độ đo Gini Index tính toán sự Impurity của tập dữ liệu cụ thể.\n",
    "- Độ đo Gini nằm trong khoảng [0, 1]. Với giá trị Impurity thấp nghĩa là dữ liệu ít hỗn loạn, ngược lại Impurity cao nghĩa là dữ liệu lộn xộn.\n",
    "\n",
    "- Tóm lại, bạn có thể tính độ đo Gini của tập dữ liệu D bằng công thức\n",
    "\n",
    "\n",
    "$$\n",
    "Gini(D) = 1 - \\sum \\limits_{i=1}^{m} {p_i}^2 \n",
    "$$\n",
    "\n",
    "Với: <br />\n",
    "m: số lượng lớp. <br />\n",
    "$p_i$: là tỷ lệ số điểm dữ liệu được gắn nhãn là i.\n",
    "\n",
    "- Nhiệm vụ của sinh viên: hoàn thành hàm *gini* bên dưới.\n",
    "-  Gợi ý, sinh viên có thể sử dụng hàm *class_counts* đã được cung cấp bên dưới. Bên dưới hàm *class_counts* có ví dụ, để mô tả cách dùng của hàm."
   ]
  },
  {
   "cell_type": "code",
   "execution_count": null,
   "id": "3c7fb72f",
   "metadata": {},
   "outputs": [],
   "source": [
    "def class_counts(data):\n",
    "    \"\"\"\n",
    "    Counts the number of each type of example in a dataset.    \n",
    "    \"\"\"\n",
    "    counts = {}  # a dictionary of label -> count.\n",
    "    for row in data:\n",
    "        # in our dataset format, the label is always the last column\n",
    "                \n",
    "        label = row[-1]\n",
    "        if label not in counts:\n",
    "            counts[label] = 0\n",
    "        counts[label] += 1\n",
    "    return counts\n",
    "\n",
    "# Example of class_counts function\n",
    "class_counts(training_data)"
   ]
  },
  {
   "cell_type": "code",
   "execution_count": null,
   "id": "4259615a",
   "metadata": {},
   "outputs": [],
   "source": [
    "def gini(training_data):\n",
    "    \"\"\"\n",
    "    Calculate the Gini Impurity for a list of labels\n",
    "    \"\"\"\n",
    "    impurity = None\n",
    "    \n",
    "    # YOUR CODE HERE\n",
    "    raise NotImplementedError()    \n",
    "    \n",
    "    return impurity"
   ]
  },
  {
   "cell_type": "code",
   "execution_count": null,
   "id": "30f53086",
   "metadata": {},
   "outputs": [],
   "source": [
    "# TEST\n",
    "labels = [['Orange'], ['Orange']]\n",
    "assert gini(labels) == 0.0\n",
    "\n",
    "labels = [['Orange'], ['Lemon']]\n",
    "assert gini(labels) == 0.5"
   ]
  },
  {
   "cell_type": "markdown",
   "id": "fad8a3ac",
   "metadata": {},
   "source": [
    "- Độ đo Gini xem xét việc phân chia nhị phân của thuộc tính. \n",
    "- Khi xem xét phân tách nhị phân, ta tính tổng có trọng số impurity của mỗi phân vùng trái và phải. Ví dụ, nếu phân tách A, tách tập dữ liệu D thành D1 và D2, thì Gini Index của D theo phân tách A là: \n",
    "$$\n",
    "Gini_A (D) = \\frac{|D_1|}{|D|} Gini(D_1) + \\frac{|D_2|}{|D|} Gini(D_2)\n",
    "$$\n",
    "\n",
    "- Độ giảm impurity (reduction in impurity) được tính theo công thức:\n",
    "$$\n",
    "\\Delta Gini(A) = Gini(D) - Gini_A(D)       \n",
    "$$ \n",
    "<br />\n",
    "\n",
    "- Nhiệm vụ của sinh viên: hoàn thành hàm *reduction_gini_impurity* bên dưới (theo công thức $\\Delta Gini(A)$)."
   ]
  },
  {
   "cell_type": "code",
   "execution_count": null,
   "id": "78eb1e7a",
   "metadata": {},
   "outputs": [],
   "source": [
    "def reduction_gini_impurity(left_partition, right_partition, current_gini):\n",
    "    \"\"\"\n",
    "    Calculate the reduction in impurity\n",
    "    \n",
    "    * Parameter:\n",
    "    - left_partition: a python list, indicate D1 partition in the previous equation\n",
    "    - right_partition: a python list, indicate D2 partition in the previous equation\n",
    "    - current_gini: a number, indicate Gini(D) in the previous equation\n",
    "    \n",
    "    * Return:\n",
    "    - reduction_impurity: a float number\n",
    "    \"\"\"\n",
    "    \n",
    "    reduction_impurity = None\n",
    "    \n",
    "    # YOUR CODE HERE\n",
    "    raise NotImplementedError()\n",
    "    \n",
    "    return reduction_impurity"
   ]
  },
  {
   "cell_type": "code",
   "execution_count": null,
   "id": "dccd3c42",
   "metadata": {},
   "outputs": [],
   "source": [
    "# TEST\n",
    "\n",
    "left_partion = [['Green', 3, 'Apple']]\n",
    "right_partion = [['Yellow', 3, 'Apple'],\n",
    "                 ['Red', 1, 'Grape'],\n",
    "                 ['Red', 1, 'Grape'],\n",
    "                 ['Yellow', 3, 'Lemon']]\n",
    "\n",
    "current_gini = gini(training_data)\n",
    "\n",
    "assert reduction_gini_impurity(left_partion, right_partion, current_gini) == 0.1399999999999999"
   ]
  },
  {
   "cell_type": "markdown",
   "id": "708eaba7",
   "metadata": {},
   "source": [
    "## Split a dataset (Phân tách dữ liệu dựa vào Gini Index)\n",
    "\n",
    "- Với độ đo Gini bên trên, ta kiểm tra mọi giá trị trên mỗi thuộc tính. Thuộc tính có reduction in impurity lớn nhất, sẽ được chọn làm phân tách.\n",
    "_________\n",
    "\n",
    "- Đầu tiên, sinh viên code hàm *partition* bên dưới. Hàm partition có nhiệm vụ phân chia dữ liệu, dựa vào thuộc tính đang xét, có giá trị như thế nào so với điểm phân chia (value of split-point).\n",
    "\n",
    "- Đối với dữ liệu numerical, hàm *partition* kiểm tra xem tại mỗi điểm dữ liệu (mỗi dòng), thuộc tính column có giá trị như thế nào với value. \n",
    "    + Nếu giá trị tại cột column của dòng i **lớn hơn hoặc bằng** value thì thêm dòng i vào left_partition. \n",
    "    + Ngược lại thêm dòng i vào right_partition.\n",
    "    \n",
    "- Đối với dữ liệu categorical:\n",
    "    + Nếu giá trị tại cột column của dòng i **bằng** value thì thêm dòng i vào left_partition. \n",
    "    + Ngược lại thêm dòng i vào right_partition."
   ]
  },
  {
   "cell_type": "code",
   "execution_count": null,
   "id": "17c33e23",
   "metadata": {},
   "outputs": [],
   "source": [
    "def is_numeric(value):\n",
    "    \"\"\"Test if a value is numeric.\"\"\"\n",
    "    return isinstance(value, int) or isinstance(value, float)"
   ]
  },
  {
   "cell_type": "code",
   "execution_count": null,
   "id": "b2cd0a01",
   "metadata": {},
   "outputs": [],
   "source": [
    "def partition(training_dataset, column, value):\n",
    "    \"\"\"\n",
    "    Partitions a dataset. \n",
    "    \n",
    "    * Parameters:\n",
    "    - training_dataset\n",
    "    - column: a number, indicate current column\n",
    "    - value: a number or string, indicate a split-point value\n",
    "    \n",
    "    * Returns:\n",
    "    - left_partition: a python list\n",
    "    - right_partition: a python list\n",
    "    \"\"\"\n",
    "    \n",
    "    left_partition, right_partition = [], []\n",
    "    \n",
    "    # YOUR CODE HERE\n",
    "    raise NotImplementedError()\n",
    "    \n",
    "    return left_partition, right_partition"
   ]
  },
  {
   "cell_type": "code",
   "execution_count": null,
   "id": "83e499b5",
   "metadata": {},
   "outputs": [],
   "source": [
    "# TEST \n",
    "\n",
    "left_partition, right_partition = partition(training_data, 0, value='Red')\n",
    "assert left_partition == [['Red', 1, 'Grape'], ['Red', 1, 'Grape']]\n",
    "assert right_partition == [['Green', 3, 'Apple'], ['Yellow', 3, 'Apple'], ['Yellow', 3, 'Lemon']]"
   ]
  },
  {
   "cell_type": "markdown",
   "id": "7484839e",
   "metadata": {},
   "source": [
    "- Cuối cùng, sinh viên sẽ hoàn thành hàm *find_best_split*"
   ]
  },
  {
   "cell_type": "code",
   "execution_count": null,
   "id": "29f8b721",
   "metadata": {},
   "outputs": [],
   "source": [
    "def find_best_split(dataset):\n",
    "    \"\"\"\n",
    "    Find the best split point by calculate reduction in impurity\n",
    "    \n",
    "    * Parameters:\n",
    "    - dataset: a 2D python list\n",
    "    \n",
    "    * Return: \n",
    "    - best_reduction_impurity: a float number, indicate the maximum reduction in impurity\n",
    "    - best_col: an int number, indicate column of split-point\n",
    "    - best_val: a number or string, indicate value of split-point\n",
    "    \"\"\"\n",
    "    \n",
    "    best_reduction_impurity = 0  # keep track of the best information gain    \n",
    "    current_uncertainty = gini(dataset) \n",
    "    best_col = None\n",
    "    best_val = None\n",
    "    n_features = len(dataset[0]) - 1  # number of columns\n",
    "\n",
    "    for col in range(n_features):  # for each feature\n",
    "\n",
    "        values = set([row[col] for row in dataset])  # unique values in the column\n",
    "\n",
    "        for val in values:  # for each value\n",
    "\n",
    "            current_col = col\n",
    "            current_val = val\n",
    "\n",
    "            # try splitting the dataset\n",
    "            left_partition, right_partition = partition(dataset, current_col, current_val)\n",
    "\n",
    "            # Skip this split if it doesn't divide the dataset.\n",
    "            if len(left_partition) == 0 or len(right_partition) == 0:\n",
    "                continue\n",
    "\n",
    "            # Calculate the reduction impurity from left_partition and right_partition \n",
    "            # (CALL reduction_gini_impurity FUNCTION)\n",
    "            \n",
    "            # YOUR CODE HERE\n",
    "            raise NotImplementedError()\n",
    "            \n",
    "            # UPDATE best_reduction_impurity, best_col, best_val\n",
    "            if reduction_impurity >= best_reduction_impurity:\n",
    "                # YOUR CODE HERE\n",
    "                raise NotImplementedError()\n",
    "\n",
    "    return best_reduction_impurity, best_col, best_val"
   ]
  },
  {
   "cell_type": "code",
   "execution_count": null,
   "id": "5758b402",
   "metadata": {},
   "outputs": [],
   "source": [
    "# TEST\n",
    "reduction_impurity, col, val = find_best_split(training_data)\n",
    "assert col == 1\n",
    "assert val == 3"
   ]
  },
  {
   "cell_type": "markdown",
   "id": "00c2f2b8",
   "metadata": {},
   "source": [
    "# Huấn luyện"
   ]
  },
  {
   "cell_type": "markdown",
   "id": "af184399",
   "metadata": {},
   "source": [
    "- Đầu tiên là nút lá (node leaf/ ternimal node), có nhiệm vụ dự đoán. \n",
    "- Nút lá sẽ trả về python dictionary, với định dạng {lớp: số lần xuất hiện}\n",
    "- Ví dụ: \n",
    "```python\n",
    "{'Apple': 1, 'Lemon': 1}\n",
    "```"
   ]
  },
  {
   "cell_type": "code",
   "execution_count": null,
   "id": "c5ddf47a",
   "metadata": {},
   "outputs": [],
   "source": [
    "class Leaf:\n",
    "    \"\"\"A Leaf node classifies data.\n",
    "\n",
    "    This holds a dictionary of class (e.g., \"Apple\") -> number of times\n",
    "    it appears in the dataset from the training data that reach this leaf.\n",
    "    \"\"\"\n",
    "\n",
    "    def __init__(self, dataset):\n",
    "        self.predictions = class_counts(dataset)"
   ]
  },
  {
   "cell_type": "markdown",
   "id": "83c2453f",
   "metadata": {},
   "source": [
    "- Tiếp theo là Decision node (nút quyết định), có nhiệm vụ phân chia dữ liệu, gồm các thuộc tính: \n",
    "    + col: thuộc tính nào đang được xét\n",
    "    + val: giá trị split-point là bao nhiêu\n",
    "    + left_branch: nhánh bên trái (trường hợp giá trị >= split-point)\n",
    "    + right_branch: nhánh bên phải (trường hợp giá trị < split-point)"
   ]
  },
  {
   "cell_type": "code",
   "execution_count": null,
   "id": "bf70b700",
   "metadata": {},
   "outputs": [],
   "source": [
    "class Decision_Node:\n",
    "    \"\"\"A Decision Node asks a question.\n",
    "\n",
    "    This holds a reference to the question, and to the two child nodes.\n",
    "    \"\"\"\n",
    "\n",
    "    def __init__(self,\n",
    "                 col,\n",
    "                 val,\n",
    "                 left_branch,\n",
    "                 right_branch):\n",
    "        self.col = col\n",
    "        self.val = val\n",
    "        self.left_branch = left_branch\n",
    "        self.right_branch = right_branch"
   ]
  },
  {
   "cell_type": "markdown",
   "id": "405b6e64",
   "metadata": {},
   "source": [
    "- Hàm xây dựng cây *build_tree* được xây dựng bên dưới. Mình đã hỗ trợ các bạn phần này."
   ]
  },
  {
   "cell_type": "code",
   "execution_count": null,
   "id": "67a1ea67",
   "metadata": {},
   "outputs": [],
   "source": [
    "def build_tree(dataset):\n",
    "    \"\"\"\n",
    "    Builds the tree.\n",
    "    \"\"\"\n",
    "\n",
    "    # Find best split-point\n",
    "    reduction_impurity, col, val = find_best_split(dataset)\n",
    "\n",
    "    # Base case\n",
    "    if reduction_impurity == 0:\n",
    "        return Leaf(dataset)\n",
    "\n",
    "    # If we reach here, we have found a useful feature / value to partition.\n",
    "    left_partition, right_partition = partition(dataset, col, val)\n",
    "\n",
    "    # Recursively build the left branch.\n",
    "    left_branch = build_tree(left_partition)\n",
    "\n",
    "    # Recursively build the right branch.\n",
    "    right_branch = build_tree(right_partition)\n",
    "\n",
    "    # Return a Question node.\n",
    "    # This records the best feature / value to ask at this point,\n",
    "    # as well as the branches to follow\n",
    "    # dependingo on the answer.\n",
    "    return Decision_Node(col, val, left_branch, right_branch)"
   ]
  },
  {
   "cell_type": "markdown",
   "id": "346d302d",
   "metadata": {},
   "source": [
    "- Đến đây chúng ta đã sẵn sàng để huấn luyện mô hình Cây quyết định (Decision tree). Cây quyết định được lưu vào biến **my_tree**"
   ]
  },
  {
   "cell_type": "code",
   "execution_count": null,
   "id": "7bbd9b13",
   "metadata": {},
   "outputs": [],
   "source": [
    "training_data = [\n",
    "    ['Green', 3, 'Apple'],\n",
    "    ['Yellow', 3, 'Apple'],\n",
    "    ['Red', 1, 'Grape'],\n",
    "    ['Red', 1, 'Grape'],\n",
    "    ['Yellow', 3, 'Lemon'],\n",
    "]\n",
    "\n",
    "my_tree = build_tree(training_data)"
   ]
  },
  {
   "cell_type": "markdown",
   "id": "3211fb33",
   "metadata": {},
   "source": [
    "# Phân lớp (Classify)\n",
    "\n",
    "- Ta tiến hành phân lớp dựa vào cây quyết định vừa được huấn luyện. Bằng cách sử dụng hàm classify được cung cấp sẵn bên dưới."
   ]
  },
  {
   "cell_type": "code",
   "execution_count": null,
   "id": "79c69cc6",
   "metadata": {},
   "outputs": [],
   "source": [
    "def classify(new_data, node):\n",
    "\n",
    "    # Base case - a leaf node\n",
    "    if isinstance(node, Leaf):\n",
    "        return node.predictions\n",
    "\n",
    "    # Classify depend on the property of decistion tree\n",
    "    \n",
    "    if is_numeric(node.val):        \n",
    "        if new_data[node.col] >= node.val:    \n",
    "            return classify(new_data, node.left_branch)\n",
    "        else:\n",
    "            return classify(new_data, node.right_branch)\n",
    "\n",
    "    else: \n",
    "        if new_data[node.col] == node.val:\n",
    "            return classify(new_data, node.left_branch)\n",
    "        else:\n",
    "            return classify(new_data, node.right_branch)"
   ]
  },
  {
   "cell_type": "code",
   "execution_count": null,
   "id": "a4c4090c",
   "metadata": {},
   "outputs": [],
   "source": [
    "new_data = ['Yellow', 3, 'Apple']\n",
    "\n",
    "classify(new_data, my_tree)"
   ]
  },
  {
   "cell_type": "markdown",
   "id": "ae20ce75",
   "metadata": {},
   "source": [
    "- Việc hiển thị, số lượng của mỗi lớp có vẻ không hay lắm. Ta sẽ dùng hàm *print_leaf* để chuyển về dạng %, nhìn sẽ chuyên nghiệp hơn."
   ]
  },
  {
   "cell_type": "code",
   "execution_count": null,
   "id": "6d636fda",
   "metadata": {},
   "outputs": [],
   "source": [
    "def print_leaf(counts):\n",
    "    \"\"\"A nicer way to print the predictions at a leaf.\"\"\"\n",
    "    total = sum(counts.values()) * 1.0\n",
    "    probs = {}\n",
    "    for lbl in counts.keys():\n",
    "        probs[lbl] = str(int(counts[lbl] / total * 100)) + \"%\"\n",
    "    return probs"
   ]
  },
  {
   "cell_type": "code",
   "execution_count": null,
   "id": "5de06fc8",
   "metadata": {},
   "outputs": [],
   "source": [
    "print_leaf(classify(new_data, my_tree))"
   ]
  },
  {
   "cell_type": "markdown",
   "id": "5dcad448",
   "metadata": {},
   "source": [
    "# Print tree"
   ]
  },
  {
   "cell_type": "markdown",
   "id": "af19116a",
   "metadata": {},
   "source": [
    "- Sau khi đã huấn luyện cây quyết định, ta cần in cây quyết định ra màn hình. Mình sẽ giúp các bạn phần này."
   ]
  },
  {
   "cell_type": "code",
   "execution_count": null,
   "id": "ff967c16",
   "metadata": {},
   "outputs": [],
   "source": [
    "column_names = ['color', 'weight', 'labels']\n",
    "\n",
    "def question(column, value):\n",
    "    condition = \"==\"\n",
    "    if is_numeric(value):\n",
    "        condition = \">=\"\n",
    "    return \"Is %s %s %s?\" % (column_names[column], condition, str(value))"
   ]
  },
  {
   "cell_type": "code",
   "execution_count": null,
   "id": "0c3cb9a9",
   "metadata": {},
   "outputs": [],
   "source": [
    "def print_tree(node, spacing=\"\"):\n",
    "    \"\"\"World's most elegant tree printing function.\"\"\"\n",
    "\n",
    "    # Base case: we've reached a leaf\n",
    "    if isinstance(node, Leaf):\n",
    "        print (spacing + \"Predict\", node.predictions)\n",
    "        return\n",
    "\n",
    "    # Print the question at this node\n",
    "    print (spacing + str(question(node.col, node.val)))\n",
    "\n",
    "    # Call this function recursively on the left branch\n",
    "    print (spacing + '--> left branch:')\n",
    "    print_tree(node.left_branch, spacing + \"  \")\n",
    "\n",
    "    # Call this function recursively on the right branch\n",
    "    print (spacing + '--> right branch:')\n",
    "    print_tree(node.right_branch, spacing + \"  \")"
   ]
  },
  {
   "cell_type": "code",
   "execution_count": null,
   "id": "362093e3",
   "metadata": {},
   "outputs": [],
   "source": [
    "print_tree(my_tree)"
   ]
  },
  {
   "cell_type": "markdown",
   "id": "f0254db6",
   "metadata": {},
   "source": [
    "# Kiểm tra độ chính xác\n",
    "\n",
    "- Sau khi đã huấn luyện thành công mô hình Cây quyết định, chúng ta sẽ kiểm tra độ chính xác của mô hình trên tập dữ liệu kiểm tra (testing dataset).\n",
    "\n",
    "- Nhiệm vụ của các bạn, sẽ dự đoán trên tập dữ liệu **testing_data**. Kết quả sẽ được lưu vào biến **testing_data_pred**"
   ]
  },
  {
   "cell_type": "code",
   "execution_count": null,
   "id": "bdc7072b",
   "metadata": {},
   "outputs": [],
   "source": [
    "# Evaluate\n",
    "testing_data = [\n",
    "    ['Green', 3, 'Apple'],\n",
    "    ['Yellow', 4, 'Apple'],\n",
    "    ['Red', 2, 'Grape'],\n",
    "    ['Red', 1, 'Grape'],\n",
    "    ['Yellow', 3, 'Lemon'],\n",
    "]"
   ]
  },
  {
   "cell_type": "code",
   "execution_count": null,
   "id": "69814b63",
   "metadata": {},
   "outputs": [],
   "source": [
    "testing_data_pred = []\n",
    "\n",
    "# YOUR CODE HERE\n",
    "raise NotImplementedError()"
   ]
  },
  {
   "cell_type": "code",
   "execution_count": null,
   "id": "a0d59055",
   "metadata": {},
   "outputs": [],
   "source": [
    "# TEST \n",
    "assert testing_data_pred == [{'Apple': '100%'}, {'Apple': '50%', 'Lemon': '50%'}, \\\n",
    "                             {'Grape': '100%'}, {'Grape': '100%'}, {'Apple': '50%', 'Lemon': '50%'}]"
   ]
  },
  {
   "cell_type": "code",
   "execution_count": null,
   "id": "c9c12003",
   "metadata": {},
   "outputs": [],
   "source": []
  }
 ],
 "metadata": {
  "kernelspec": {
   "display_name": "Python 3",
   "language": "python",
   "name": "python3"
  },
  "language_info": {
   "codemirror_mode": {
    "name": "ipython",
    "version": 3
   },
   "file_extension": ".py",
   "mimetype": "text/x-python",
   "name": "python",
   "nbconvert_exporter": "python",
   "pygments_lexer": "ipython3",
   "version": "3.7.9"
  }
 },
 "nbformat": 4,
 "nbformat_minor": 5
}
